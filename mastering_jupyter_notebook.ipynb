{
 "cells": [
  {
   "cell_type": "markdown",
   "id": "02c73c29-87ff-4bfe-8e35-d0caa544f2ce",
   "metadata": {
    "tags": []
   },
   "source": [
    "<center> <h1> Mastering Jupyter Notebook </h1> </center>"
   ]
  },
  {
   "cell_type": "markdown",
   "id": "ebf20b22-8595-49de-90a3-aad115a7bce6",
   "metadata": {},
   "source": [
    "<h2> Introduction </h2>\n",
    "In this notebook, we will master Jupyter"
   ]
  },
  {
   "cell_type": "markdown",
   "id": "d7259267-4e64-41dd-a4e6-1cbc6d01304d",
   "metadata": {},
   "source": [
    "<h2> Data science languages </h2>"
   ]
  },
  {
   "cell_type": "markdown",
   "id": "69a1d431-bc28-43fa-a043-63038d82d340",
   "metadata": {},
   "source": [
    "<ul>\n",
    "    <li> Python </li>\n",
    "    <li> R </li>\n",
    "    <li> Julia </li>\n",
    "    <li> Pearl </li>\n",
    "</ul>"
   ]
  },
  {
   "cell_type": "markdown",
   "id": "d4588a42-5e19-4ccd-866c-48d2cf3a3837",
   "metadata": {},
   "source": [
    "<h2> Data science libraries </h2>"
   ]
  },
  {
   "cell_type": "markdown",
   "id": "81708b04-594c-44bc-b237-8a09c7e004db",
   "metadata": {},
   "source": [
    "<ul>\n",
    "    <li>Pandas</li>\n",
    "    <li>Numpy</li>\n",
    "    <li>Matplotlib</li>\n",
    "    <li>Seaborn</li>\n",
    "    <li>Tensorflow</li>\n",
    "    <li>Scikit-learn</li>\n",
    "</ul>"
   ]
  },
  {
   "cell_type": "markdown",
   "id": "2972229c-9acd-4c8b-b19f-7d40c9d71397",
   "metadata": {},
   "source": [
    "<h2>Data science tools</h2>"
   ]
  },
  {
   "cell_type": "markdown",
   "id": "88722935-eed5-4ff4-9a5b-28563478e648",
   "metadata": {},
   "source": [
    "<table>\n",
    "  <tr>\n",
    "      <th>Data science tools</th>\n",
    "  </tr>\n",
    "  <tr>\n",
    "      <td>Jupyter Notebook</td>\n",
    "  </tr>\n",
    "  <tr>\n",
    "      <td>Apache Spark</td>\n",
    "  </tr>\n",
    "  <tr>\n",
    "      <td>Knime</td>\n",
    "  </tr>\n",
    "  <tr>\n",
    "      <td>Tableau</td>\n",
    "  </tr>\n",
    "</table>"
   ]
  },
  {
   "cell_type": "markdown",
   "id": "889c65db-e9bd-4e16-a56c-c6f66892347a",
   "metadata": {},
   "source": [
    "<h2>Arithmetic expression examples</h2>"
   ]
  },
  {
   "cell_type": "code",
   "execution_count": 1,
   "id": "0bee3c4c-0435-4f23-89fb-fb3e5a4cabe9",
   "metadata": {
    "tags": []
   },
   "outputs": [
    {
     "data": {
      "text/plain": [
       "3"
      ]
     },
     "execution_count": 1,
     "metadata": {},
     "output_type": "execute_result"
    }
   ],
   "source": [
    "1+2"
   ]
  },
  {
   "cell_type": "markdown",
   "id": "a2d0d411-52f2-4325-9f1c-772cf3ed8c5f",
   "metadata": {},
   "source": [
    "<h2>Multiply and add numbers</h2>"
   ]
  },
  {
   "cell_type": "code",
   "execution_count": 4,
   "id": "04846c49-051b-4fbc-8d0a-f67c96190e19",
   "metadata": {
    "tags": []
   },
   "outputs": [
    {
     "data": {
      "text/plain": [
       "4"
      ]
     },
     "execution_count": 4,
     "metadata": {},
     "output_type": "execute_result"
    }
   ],
   "source": [
    "#Add numbers\n",
    "\n",
    "1+1\n",
    "\n",
    "#Multiply numbers\n",
    "\n",
    "2*2"
   ]
  },
  {
   "cell_type": "markdown",
   "id": "e543a64e-98d7-40fe-a2fa-b18a14824bd9",
   "metadata": {},
   "source": [
    "<h2>Convert minutes to hours</h2>"
   ]
  },
  {
   "cell_type": "code",
   "execution_count": 5,
   "id": "71c7d741-6313-4f60-be1b-5bef6d203519",
   "metadata": {
    "tags": []
   },
   "outputs": [],
   "source": [
    "time_m = 65\n",
    "time_h = time_m / 60\n"
   ]
  },
  {
   "cell_type": "markdown",
   "id": "95ca6792-5489-4966-9c4a-bb940d8cb360",
   "metadata": {
    "tags": []
   },
   "source": [
    "<h2>Objectives</h2>\n",
    "\n",
    "<ul>\n",
    "    <li>Learn Python</li>\n",
    "    <li>Mastering data science libraries</li>\n",
    "    <li>Get my certificate</li>\n",
    "</ul>"
   ]
  },
  {
   "cell_type": "markdown",
   "id": "1b4e3221-9bf5-4bc3-be33-4ee590a8969c",
   "metadata": {},
   "source": [
    "<h2>Author:</h2>\n",
    "\n",
    "Mohamed Naceur Ben Salah"
   ]
  },
  {
   "cell_type": "code",
   "execution_count": null,
   "id": "72261260-1c09-4ffb-9bf7-7a8a8b05b09d",
   "metadata": {},
   "outputs": [],
   "source": []
  }
 ],
 "metadata": {
  "kernelspec": {
   "display_name": "Python",
   "language": "python",
   "name": "conda-env-python-py"
  },
  "language_info": {
   "codemirror_mode": {
    "name": "ipython",
    "version": 3
   },
   "file_extension": ".py",
   "mimetype": "text/x-python",
   "name": "python",
   "nbconvert_exporter": "python",
   "pygments_lexer": "ipython3",
   "version": "3.7.12"
  }
 },
 "nbformat": 4,
 "nbformat_minor": 5
}
